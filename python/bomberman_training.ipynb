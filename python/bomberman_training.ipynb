{
 "cells": [
  {
   "cell_type": "markdown",
   "metadata": {},
   "source": [
    "# Bomberman Tower ML-Agents Training\n",
    "\n",
    "Bu notebook Bomberman Tower oyunu için ML-Agents training'ini başlatır ve izler."
   ]
  },
  {
   "cell_type": "markdown",
   "metadata": {},
   "source": [
    "## 1. Setup ve Imports"
   ]
  },
  {
   "cell_type": "code",
   "execution_count": null,
   "metadata": {},
   "outputs": [
    {
     "ename": "",
     "evalue": "",
     "output_type": "error",
     "traceback": [
      "\u001b[1;31mRunning cells with 'base (Python 3.10.8)' requires the ipykernel package.\n",
      "\u001b[1;31mInstall 'ipykernel' into the Python environment. \n",
      "\u001b[1;31mCommand: 'conda install -n base ipykernel --update-deps --force-reinstall'"
     ]
    }
   ],
   "source": [
    "import os\n",
    "import sys\n",
    "import subprocess\n",
    "import time\n",
    "import threading\n",
    "from datetime import datetime\n",
    "\n",
    "# ML-Agents imports\n",
    "try:\n",
    "    from mlagents.trainers.learn import run_cli\n",
    "    print(\"✅ ML-Agents imported successfully\")\n",
    "except ImportError:\n",
    "    print(\"❌ ML-Agents not found. Install with: pip install mlagents\")\n",
    "    \n",
    "# Set environment variable for protobuf compatibility\n",
    "os.environ['PROTOCOL_BUFFERS_PYTHON_IMPLEMENTATION'] = 'python'\n",
    "print(f\"📁 Current directory: {os.getcwd()}\")\n",
    "print(f\"🐍 Python version: {sys.version}\")"
   ]
  },
  {
   "cell_type": "markdown",
   "metadata": {},
   "source": [
    "## 2. Training Configuration"
   ]
  },
  {
   "cell_type": "code",
   "execution_count": null,
   "metadata": {},
   "outputs": [],
   "source": [
    "# Training parameters\n",
    "CONFIG_FILE = \"config/bomberman_ppo_simple.yaml\"\n",
    "RUN_ID = f\"bomberman_training_{datetime.now().strftime('%Y%m%d_%H%M%S')}\"\n",
    "MAX_STEPS = 10000  # Training için adım sayısı\n",
    "FORCE_OVERWRITE = True\n",
    "\n",
    "print(f\"🎯 Config file: {CONFIG_FILE}\")\n",
    "print(f\"🆔 Run ID: {RUN_ID}\")\n",
    "print(f\"🔢 Max steps: {MAX_STEPS}\")\n",
    "\n",
    "# Check if config file exists\n",
    "if os.path.exists(CONFIG_FILE):\n",
    "    print(f\"✅ Config file found: {CONFIG_FILE}\")\n",
    "else:\n",
    "    print(f\"❌ Config file not found: {CONFIG_FILE}\")"
   ]
  },
  {
   "cell_type": "markdown",
   "metadata": {},
   "source": [
    "## 3. Start Training Server\n",
    "\n",
    "Bu cell'i çalıştır ve Unity'de Play'e bas!"
   ]
  },
  {
   "cell_type": "code",
   "execution_count": null,
   "metadata": {},
   "outputs": [],
   "source": [
    "def start_training():\n",
    "    \"\"\"Start ML-Agents training server\"\"\"\n",
    "    \n",
    "    # Build command arguments\n",
    "    cmd_args = [\n",
    "        \"python\", \"-m\", \"mlagents.trainers.learn\",\n",
    "        CONFIG_FILE,\n",
    "        f\"--run-id={RUN_ID}\"\n",
    "    ]\n",
    "    \n",
    "    if FORCE_OVERWRITE:\n",
    "        cmd_args.append(\"--force\")\n",
    "    \n",
    "    print(f\"🚀 Starting training with command:\")\n",
    "    print(f\"   {' '.join(cmd_args)}\")\n",
    "    print(f\"\")\n",
    "    print(f\"📋 Training info:\")\n",
    "    print(f\"   - Config: {CONFIG_FILE}\")\n",
    "    print(f\"   - Run ID: {RUN_ID}\")\n",
    "    print(f\"   - Max steps: {MAX_STEPS}\")\n",
    "    print(f\"   - Results will be saved to: results/{RUN_ID}\")\n",
    "    print(f\"\")\n",
    "    print(f\"🎮 Now go to Unity and press PLAY!\")\n",
    "    print(f\"   You should see: 'Connected to Unity environment'\")\n",
    "    print(f\"\")\n",
    "    print(f\"📊 To monitor training:\")\n",
    "    print(f\"   - Watch the output below\")\n",
    "    print(f\"   - Or run: tensorboard --logdir results\")\n",
    "    print(f\"\")\n",
    "    print(f\"⛔ To stop training: Interrupt the kernel (Kernel > Interrupt)\")\n",
    "    print(f\"\" + \"=\"*60)\n",
    "    \n",
    "    try:\n",
    "        # Start the training process\n",
    "        process = subprocess.Popen(\n",
    "            cmd_args,\n",
    "            stdout=subprocess.PIPE,\n",
    "            stderr=subprocess.STDOUT,\n",
    "            universal_newlines=True,\n",
    "            bufsize=1\n",
    "        )\n",
    "        \n",
    "        # Stream output in real-time\n",
    "        for line in process.stdout:\n",
    "            print(line.rstrip())\n",
    "            \n",
    "        process.wait()\n",
    "        \n",
    "        if process.returncode == 0:\n",
    "            print(f\"\\n✅ Training completed successfully!\")\n",
    "        else:\n",
    "            print(f\"\\n❌ Training failed with return code: {process.returncode}\")\n",
    "            \n",
    "    except KeyboardInterrupt:\n",
    "        print(f\"\\n⏹️ Training stopped by user\")\n",
    "        if 'process' in locals():\n",
    "            process.terminate()\n",
    "    except Exception as e:\n",
    "        print(f\"\\n❌ Error during training: {e}\")\n",
    "\n",
    "# Start training\n",
    "start_training()"
   ]
  },
  {
   "cell_type": "markdown",
   "metadata": {},
   "source": [
    "## 4. Training Monitoring"
   ]
  },
  {
   "cell_type": "code",
   "execution_count": null,
   "metadata": {},
   "outputs": [],
   "source": [
    "# Check training results\n",
    "results_dir = f\"results/{RUN_ID}\"\n",
    "\n",
    "if os.path.exists(results_dir):\n",
    "    print(f\"📊 Training results in: {results_dir}\")\n",
    "    \n",
    "    # List files in results directory\n",
    "    for root, dirs, files in os.walk(results_dir):\n",
    "        level = root.replace(results_dir, '').count(os.sep)\n",
    "        indent = ' ' * 2 * level\n",
    "        print(f\"{indent}{os.path.basename(root)}/\")\n",
    "        subindent = ' ' * 2 * (level + 1)\n",
    "        for file in files:\n",
    "            print(f\"{subindent}{file}\")\n",
    "else:\n",
    "    print(f\"❌ No results found in: {results_dir}\")"
   ]
  },
  {
   "cell_type": "markdown",
   "metadata": {},
   "source": [
    "## 5. TensorBoard Visualization"
   ]
  },
  {
   "cell_type": "code",
   "execution_count": null,
   "metadata": {},
   "outputs": [],
   "source": [
    "def start_tensorboard():\n",
    "    \"\"\"Start TensorBoard for training visualization\"\"\"\n",
    "    \n",
    "    print(\"🔥 Starting TensorBoard...\")\n",
    "    print(\"📊 Open browser and go to: http://localhost:6006\")\n",
    "    print(\"⏹️ To stop: Interrupt this cell\")\n",
    "    print(\"=\"*50)\n",
    "    \n",
    "    try:\n",
    "        process = subprocess.Popen([\n",
    "            \"tensorboard\", \"--logdir\", \"results\",\n",
    "            \"--host\", \"localhost\",\n",
    "            \"--port\", \"6006\"\n",
    "        ])\n",
    "        \n",
    "        print(f\"🟢 TensorBoard started with PID: {process.pid}\")\n",
    "        process.wait()\n",
    "        \n",
    "    except KeyboardInterrupt:\n",
    "        print(\"\\n⏹️ TensorBoard stopped\")\n",
    "        if 'process' in locals():\n",
    "            process.terminate()\n",
    "    except FileNotFoundError:\n",
    "        print(\"❌ TensorBoard not found. Install with: pip install tensorboard\")\n",
    "    except Exception as e:\n",
    "        print(f\"❌ Error starting TensorBoard: {e}\")\n",
    "\n",
    "# Uncomment to start TensorBoard\n",
    "# start_tensorboard()"
   ]
  },
  {
   "cell_type": "markdown",
   "metadata": {},
   "source": [
    "## 6. Quick Training Commands"
   ]
  },
  {
   "cell_type": "code",
   "execution_count": null,
   "metadata": {},
   "outputs": [],
   "source": [
    "# Quick commands for different training scenarios\n",
    "\n",
    "def quick_train(steps=1000, run_suffix=\"\"):\n",
    "    \"\"\"Quick training with specified steps\"\"\"\n",
    "    quick_run_id = f\"quick_train_{steps}{run_suffix}_{datetime.now().strftime('%H%M%S')}\"\n",
    "    \n",
    "    cmd = f\"\"\"python -m mlagents.trainers.learn {CONFIG_FILE} --run-id={quick_run_id} --force\"\"\"\n",
    "    \n",
    "    print(f\"🏃‍♂️ Quick training ({steps} steps):\")\n",
    "    print(f\"   Run ID: {quick_run_id}\")\n",
    "    print(f\"   Command: {cmd}\")\n",
    "    print(f\"\\n🎮 Go to Unity and press PLAY!\")\n",
    "    \n",
    "    return cmd\n",
    "\n",
    "# Generate quick commands\n",
    "print(\"⚡ Quick Training Options:\")\n",
    "print(\"1. Test (1K steps):\", quick_train(1000, \"_test\"))\n",
    "print(\"2. Short (5K steps):\", quick_train(5000, \"_short\"))\n",
    "print(\"3. Medium (10K steps):\", quick_train(10000, \"_medium\"))\n",
    "print(\"\\n💡 Copy-paste any command above to terminal if needed\")"
   ]
  }
 ],
 "metadata": {
  "kernelspec": {
   "display_name": "base",
   "language": "python",
   "name": "python3"
  },
  "language_info": {
   "codemirror_mode": {
    "name": "ipython",
    "version": 3
   },
   "file_extension": ".py",
   "mimetype": "text/x-python",
   "name": "python",
   "nbconvert_exporter": "python",
   "pygments_lexer": "ipython3",
   "version": "3.10.8"
  }
 },
 "nbformat": 4,
 "nbformat_minor": 4
}
